{
 "cells": [
  {
   "cell_type": "markdown",
   "id": "98107e68",
   "metadata": {},
   "source": [
    "# ArrivalCar RL"
   ]
  },
  {
   "cell_type": "markdown",
   "id": "d19e7360",
   "metadata": {},
   "source": [
    "Для проведения исследовательской работы от предствителей **Arrival** была получена следующая информация:\n",
    "\n",
    "1) `RealTrj.mat` - значение вектора состояния:\n",
    "\n",
    "  - Longitudinal Speed - продольная скорость $[м/с]$.\n",
    "\n",
    "  - Lateral Speed - боковая скорость $[м/с]$.\n",
    "  \n",
    "  - Yaw Rate - угловая скорость поворота $[рад/с]$.\n",
    "  \n",
    "  - Yaw - угол поворота $[рад]$.\n",
    "\n",
    "  - Omega Wheel - угловая скорость колес $[рад/с]$:\n",
    "\n",
    "    * Omega Front Left - угловая скорость переднего левого колеса.\n",
    "  \n",
    "    * Omega Rear Left - угловая скорость заднего левого колеса.\n",
    "  \n",
    "    * Omega Front Right - угловая скорость переднего правого колеса.\n",
    "    \n",
    "    * Omega Rear Right - угловая скорость заднего правого колеса.\n",
    "  \n",
    "2) `VehParams.mat` - параметры модели.\n",
    "\n",
    "3) `Inputs.mat` - значение вектора управления:\n",
    "\n",
    "  - Braking Force - сила торможения для каждого колеса $[Н]$.\n",
    "\n",
    "  - Forward Force - сила разгона для каждого колеса $[Н]$.\n",
    "  \n",
    "  - Steer - угол поворота руля $[рад]$.\n",
    "\n",
    "4) `Additional.mat` - дополнительные параметры движения:\n",
    "    \n",
    "  - ax - продольное ускорение $[м/с^2]$.\n",
    "  \n",
    "  - ay - боковое ускорение $[м/с^2]$.\n",
    "  \n",
    "  - Map - координаты автомобиля на трассе $[м]$.\n",
    "  \n",
    "5) `ODE4Wheel.m` - динамическая модель движения колес автомобиля.\n",
    "\n",
    "6) `PacejkaTyreModelInterfaсe.m` - динамическая модель покрышки."
   ]
  },
  {
   "cell_type": "markdown",
   "id": "a3372a3a",
   "metadata": {},
   "source": [
    "## Задача № 1 Сравнение реальной траектории с модельной\n",
    "\n",
    "На рисунке, представленном ниже, приведено сравнение реальной траектории из `RealTrj.mat` и траектории модели, определяемой по параметрам из `VehParams.mat`\n",
    "![Текст с описанием картинки](Problem_1.png)"
   ]
  }
 ],
 "metadata": {
  "kernelspec": {
   "display_name": "Python 3 (ipykernel)",
   "language": "python",
   "name": "python3"
  },
  "language_info": {
   "codemirror_mode": {
    "name": "ipython",
    "version": 3
   },
   "file_extension": ".py",
   "mimetype": "text/x-python",
   "name": "python",
   "nbconvert_exporter": "python",
   "pygments_lexer": "ipython3",
   "version": "3.9.12"
  }
 },
 "nbformat": 4,
 "nbformat_minor": 5
}
